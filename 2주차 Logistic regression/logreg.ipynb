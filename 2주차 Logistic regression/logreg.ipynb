{
 "cells": [
  {
   "cell_type": "code",
   "execution_count": 1,
   "id": "48c3e56c",
   "metadata": {},
   "outputs": [],
   "source": [
    "import random\n",
    "import numpy as np\n",
    "import matplotlib.pyplot as plt\n",
    "def f(x, b):\n",
    "    return 5*x - b\n",
    "\n",
    "def f2(x, b):\n",
    "    return 1/10*x**2 - b\n",
    "x1 = []\n",
    "for i in range(100):\n",
    "    x1.append(random.uniform(-100,100))\n",
    "    \n",
    "x2 = []\n",
    "for i in range(100):\n",
    "    error = random.uniform(-300,300)\n",
    "    x2.append(f2(x1[i],-250) + error)\n",
    "y1 = [0]*100\n",
    "\n",
    "x3 = []\n",
    "for i in range(100):\n",
    "    x3.append(random.uniform(-100,100))\n",
    "    \n",
    "x4 = []\n",
    "for i in range(100):\n",
    "    error = random.uniform(-300,300)\n",
    "    x4.append(f(x3[i],150) + error)\n",
    "y2 = [1]*100"
   ]
  },
  {
   "cell_type": "code",
   "execution_count": 2,
   "id": "36e934a3",
   "metadata": {},
   "outputs": [
    {
     "data": {
      "image/png": "[encoded data removed]",
      "text/plain": [
       "<Figure size 432x288 with 1 Axes>"
      ]
     },
     "metadata": {
      "needs_background": "light"
     },
     "output_type": "display_data"
    }
   ],
   "source": [
    "plt.scatter(x1, x2, c=\"blue\")\n",
    "plt.scatter(x3, x4, c=\"red\")\n",
    "plt.show()"
   ]
  },
  {
   "cell_type": "code",
   "execution_count": 3,
   "id": "3d01ecef",
   "metadata": {},
   "outputs": [],
   "source": [
    "x_1 = np.array(x1+x3).reshape(-1,1)\n",
    "x_2 = np.array(x2+x4).reshape(-1,1)\n",
    "x = np.concatenate((x_1, x_2), axis = 1)\n",
    "\n",
    "y = np.array(y1 + y2)\n",
    "\n",
    "place = np.arange(200)\n",
    "np.random.shuffle(place)\n",
    "x, y = x[place], y[place]\n"
   ]
  },
  {
   "cell_type": "code",
   "execution_count": 4,
   "id": "4ea8f904",
   "metadata": {},
   "outputs": [],
   "source": [
    "class log_model():\n",
    "    def __init__(self):\n",
    "        self.w1 = random.random()\n",
    "        self.w2 = random.random()\n",
    "        self.b = random.random()\n",
    "        \n",
    "    def sigmoid(self, z):\n",
    "        return 1/(1+np.exp(-z))\n",
    "    \n",
    "    def predict(self, x1, x2):\n",
    "        z = self.w1*x1 + self.w2*x2 + self.b\n",
    "        a = self.sigmoid(z)\n",
    "        return a"
   ]
  },
  {
   "cell_type": "code",
   "execution_count": 5,
   "id": "66235d41",
   "metadata": {},
   "outputs": [],
   "source": [
    "def train(X, Y, model):\n",
    "    dw1 = 0.0\n",
    "    dw2 = 0.0\n",
    "    db = 0.0\n",
    "    cost = 0.0\n",
    "    m = len(X)\n",
    "    for (x1, x2), y in zip(X, Y):\n",
    "        pred = model.predict(x1, x2)\n",
    "#         if y == 1:\n",
    "#             cost -= np.log(pred)\n",
    "#         else:\n",
    "#             cost -= np.log(1-pred)\n",
    "        cost -= y*np.log(pred) + (1-y)*np.log(1-pred)\n",
    "        dw1 += (pred-y)*x1\n",
    "        dw2 += (pred-y)*x2\n",
    "        db += (pred-y)\n",
    "    cost /= m\n",
    "    model.w1 -= lr*(dw1/m)\n",
    "    model.w2 -= lr*(dw2/m)\n",
    "    model.b -= lr*(db/m)\n",
    "    return cost\n",
    "    "
   ]
  },
  {
   "cell_type": "code",
   "execution_count": 6,
   "id": "88e64de1",
   "metadata": {},
   "outputs": [],
   "source": [
    "model = log_model()"
   ]
  },
  {
   "cell_type": "code",
   "execution_count": 7,
   "id": "0e543c3a",
   "metadata": {},
   "outputs": [
    {
     "name": "stderr",
     "output_type": "stream",
     "text": [
      "C:\\Users\\GEONHO~1\\AppData\\Local\\Temp/ipykernel_25676/3009091568.py:13: RuntimeWarning: divide by zero encountered in log\n",
      "  cost -= y*np.log(pred) + (1-y)*np.log(1-pred)\n",
      "C:\\Users\\GEONHO~1\\AppData\\Local\\Temp/ipykernel_25676/3009091568.py:13: RuntimeWarning: invalid value encountered in multiply\n",
      "  cost -= y*np.log(pred) + (1-y)*np.log(1-pred)\n",
      "C:\\Users\\GEONHO~1\\AppData\\Local\\Temp/ipykernel_25676/2666670204.py:8: RuntimeWarning: overflow encountered in exp\n",
      "  return 1/(1+np.exp(-z))\n"
     ]
    },
    {
     "name": "stdout",
     "output_type": "stream",
     "text": [
      "nan\n",
      "0.40951361496073363\n",
      "0.32489091037899875\n",
      "0.259667563651542\n",
      "0.22093512359048595\n",
      "0.2068560203071873\n",
      "0.2041389193263853\n",
      "0.2037640386901672\n",
      "0.2036574122837256\n",
      "0.20357445919848136\n",
      "0.0622684456692699 -0.013081846352377966 0.6732086568612925\n",
      "train_finished\n"
     ]
    }
   ],
   "source": [
    "epochs = 20000\n",
    "lr = 0.00002\n",
    "\n",
    "for epoch in range(epochs):\n",
    "    cost = train(x, y, model)\n",
    "    if epoch%2000 == 0:\n",
    "        print(cost)\n",
    "print(str(model.w1) + ' ' + str(model.w2) + ' ' + str(model.b))\n",
    "print('train_finished')\n",
    "    "
   ]
  },
  {
   "cell_type": "code",
   "execution_count": 8,
   "id": "bd764d15",
   "metadata": {},
   "outputs": [
    {
     "data": {
      "image/png": "[encoded data removed]",
      "text/plain": [
       "<Figure size 432x288 with 1 Axes>"
      ]
     },
     "metadata": {
      "needs_background": "light"
     },
     "output_type": "display_data"
    }
   ],
   "source": [
    "x22 = []\n",
    "xmin = -100\n",
    "xmax = 100\n",
    "stepx = int((xmax-xmin)/50)\n",
    "ymin = -1000\n",
    "ymax = 1500\n",
    "stepy = int((ymax-ymin)/50)\n",
    "for i in range(xmin, xmax, stepx):\n",
    "    for j in range(ymin, ymax, stepy):\n",
    "        x22.append([i,j])\n",
    "x22 = np.array(x22)\n",
    "\n",
    "pred1 = []\n",
    "for i, j in x22:\n",
    "    pred1.append(model.predict(i, j))\n",
    "\n",
    "pred1 = np.array(pred1)\n",
    "pred1 = np.where(pred1<0.5, 0, 1)\n",
    "plt.scatter(x22[:,0][pred1==0], x22[:,1][pred1==0], s=3, c = 'cyan')\n",
    "plt.scatter(x22[:,0][pred1==1], x22[:,1][pred1==1], s=3, c = 'pink')\n",
    "plt.scatter(x1, x2, c=\"blue\")\n",
    "plt.scatter(x3, x4, c=\"red\")\n",
    "plt.show()"
   ]
  },
  {
   "cell_type": "code",
   "execution_count": 9,
   "id": "05ea371f",
   "metadata": {},
   "outputs": [
    {
     "name": "stdout",
     "output_type": "stream",
     "text": [
      "0.9992644320761706\n"
     ]
    }
   ],
   "source": [
    "print(model.predict(0,-500))"
   ]
  },
  {
   "cell_type": "code",
   "execution_count": null,
   "id": "9c4aa411",
   "metadata": {},
   "outputs": [],
   "source": []
  },
  {
   "cell_type": "code",
   "execution_count": null,
   "id": "97f61fa9",
   "metadata": {},
   "outputs": [],
   "source": []
  }
 ],
 "metadata": {
  "kernelspec": {
   "display_name": "Python 3 (ipykernel)",
   "language": "python",
   "name": "python3"
  },
  "language_info": {
   "codemirror_mode": {
    "name": "ipython",
    "version": 3
   },
   "file_extension": ".py",
   "mimetype": "text/x-python",
   "name": "python",
   "nbconvert_exporter": "python",
   "pygments_lexer": "ipython3",
   "version": "3.9.7"
  }
 },
 "nbformat": 4,
 "nbformat_minor": 5
}
