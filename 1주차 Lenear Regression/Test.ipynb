{
 "cells": [
  {
   "cell_type": "code",
   "execution_count": 46,
   "id": "62cc5f26",
   "metadata": {},
   "outputs": [],
   "source": [
    "from sklearn.linear_model import LinearRegression\n",
    "import numpy as np\n",
    "import random"
   ]
  },
  {
   "cell_type": "code",
   "execution_count": 76,
   "id": "f9796748",
   "metadata": {},
   "outputs": [],
   "source": [
    "data_size = 200\n",
    "\n",
    "\n",
    "x1 = []\n",
    "for i in range(data_size):\n",
    "    x1.append(random.uniform(-data_size, data_size))\n",
    "    \n",
    "x2 = []\n",
    "for i in range(data_size):\n",
    "    x2.append(random.uniform(-data_size, data_size))\n",
    "\n",
    "    \n",
    "y = []    \n",
    "for i in range(data_size):\n",
    "    error = random.uniform(-data_size*0.2, data_size*0.2)\n",
    "    y.append(x1[i]*4.7 + x2[i]*(2.1) - 20 + error)\n",
    "\n",
    "\n"
   ]
  },
  {
   "cell_type": "code",
   "execution_count": 77,
   "id": "95c20dd0",
   "metadata": {},
   "outputs": [
    {
     "name": "stdout",
     "output_type": "stream",
     "text": [
      "(200, 1)\n",
      "(200, 1)\n",
      "(200, 2)\n",
      "(200, 1)\n"
     ]
    }
   ],
   "source": [
    "x1 = np.array(x1).reshape(-1,1)\n",
    "print(x1.shape)\n",
    "x2 = np.array(x2).reshape(-1,1)\n",
    "print(x2.shape)\n",
    "\n",
    "x = np.concatenate((x1, x2), axis = 1)\n",
    "print(x.shape)\n",
    "\n",
    "y = np.array(y).reshape(-1,1)\n",
    "print(y.shape)\n",
    "\n"
   ]
  },
  {
   "cell_type": "code",
   "execution_count": 78,
   "id": "021c4a7e",
   "metadata": {},
   "outputs": [],
   "source": [
    "test_size = int(data_size*0.2)\n",
    "\n",
    "x_train, x_test = x[test_size:], x[:test_size]\n",
    "y_train, y_test = y[test_size:], y[:test_size]"
   ]
  },
  {
   "cell_type": "code",
   "execution_count": 79,
   "id": "096eeddd",
   "metadata": {},
   "outputs": [],
   "source": [
    "model = LinearRegression().fit(x_train, y_train)"
   ]
  },
  {
   "cell_type": "code",
   "execution_count": 80,
   "id": "e1423f4b",
   "metadata": {},
   "outputs": [
    {
     "data": {
      "text/plain": [
       "0.998575117122529"
      ]
     },
     "execution_count": 80,
     "metadata": {},
     "output_type": "execute_result"
    }
   ],
   "source": [
    "model.score(x_test, y_test)"
   ]
  },
  {
   "cell_type": "code",
   "execution_count": 81,
   "id": "c014e5f5",
   "metadata": {},
   "outputs": [
    {
     "name": "stdout",
     "output_type": "stream",
     "text": [
      "[[4.70129946 2.09678949]]\n"
     ]
    }
   ],
   "source": [
    "print(model.coef_)"
   ]
  },
  {
   "cell_type": "code",
   "execution_count": 82,
   "id": "63d711f5",
   "metadata": {},
   "outputs": [
    {
     "name": "stdout",
     "output_type": "stream",
     "text": [
      "[-20.86518919]\n"
     ]
    }
   ],
   "source": [
    "print(model.intercept_)"
   ]
  },
  {
   "cell_type": "code",
   "execution_count": 83,
   "id": "a2f294c5",
   "metadata": {},
   "outputs": [
    {
     "name": "stdout",
     "output_type": "stream",
     "text": [
      "[[-51.98749366]]\n"
     ]
    }
   ],
   "source": [
    "print(model.predict([[-20, 30]]))"
   ]
  },
  {
   "cell_type": "code",
   "execution_count": 84,
   "id": "a9786b2c",
   "metadata": {},
   "outputs": [],
   "source": [
    "y_pred = model.predict(x_test)"
   ]
  },
  {
   "cell_type": "code",
   "execution_count": 85,
   "id": "c046a38e",
   "metadata": {},
   "outputs": [
    {
     "name": "stdout",
     "output_type": "stream",
     "text": [
      "(40, 2)\n",
      "(40, 1)\n"
     ]
    }
   ],
   "source": [
    "import matplotlib.pyplot as plt\n",
    "print(x_test.shape)\n",
    "print(y_test.shape)"
   ]
  },
  {
   "cell_type": "code",
   "execution_count": 89,
   "id": "c6d1caae",
   "metadata": {},
   "outputs": [
    {
     "data": {
      "image/png": "[encoded data removed]",
      "text/plain": [
       "<Figure size 432x288 with 1 Axes>"
      ]
     },
     "metadata": {},
     "output_type": "display_data"
    }
   ],
   "source": [
    "fig = plt.figure()\n",
    "ax = fig.add_subplot(projection='3d')\n",
    "ax.scatter(x_test[:,0],x_test[:,1], y_test, color = \"black\")\n",
    "ax.scatter(x_test[:,0],x_test[:,1], y_pred, color = \"red\")\n",
    "plt.xticks(())\n",
    "plt.yticks(())\n",
    "plt.show()"
   ]
  },
  {
   "cell_type": "code",
   "execution_count": null,
   "id": "57428129",
   "metadata": {},
   "outputs": [],
   "source": []
  }
 ],
 "metadata": {
  "kernelspec": {
   "display_name": "Python 3 (ipykernel)",
   "language": "python",
   "name": "python3"
  },
  "language_info": {
   "codemirror_mode": {
    "name": "ipython",
    "version": 3
   },
   "file_extension": ".py",
   "mimetype": "text/x-python",
   "name": "python",
   "nbconvert_exporter": "python",
   "pygments_lexer": "ipython3",
   "version": "3.9.7"
  }
 },
 "nbformat": 4,
 "nbformat_minor": 5
}
