{
 "cells": [
  {
   "cell_type": "code",
   "execution_count": 118,
   "id": "48c3e56c",
   "metadata": {},
   "outputs": [],
   "source": [
    "import random\n",
    "import numpy as np\n",
    "import matplotlib.pyplot as plt\n",
    "\n",
    "def f(x):\n",
    "    return 5*x - 1000\n",
    "\n",
    "x = []\n",
    "for i in range(100):\n",
    "    x.append(random.uniform(-100,100))\n",
    "    \n",
    "y = []\n",
    "for i in range(100):\n",
    "    error = random.uniform(-100,100)\n",
    "    y.append(f(x[i]) + error)\n",
    "    "
   ]
  },
  {
   "cell_type": "code",
   "execution_count": 120,
   "id": "36e934a3",
   "metadata": {},
   "outputs": [
    {
     "data": {
      "image/png": "[encoded data removed]",
      "text/plain": [
       "<Figure size 432x288 with 1 Axes>"
      ]
     },
     "metadata": {
      "needs_background": "light"
     },
     "output_type": "display_data"
    }
   ],
   "source": [
    "plt.scatter(x, y)\n",
    "plt.show()"
   ]
  },
  {
   "cell_type": "code",
   "execution_count": 238,
   "id": "bb333444",
   "metadata": {},
   "outputs": [],
   "source": [
    "epochs = 10000\n",
    "lr = 0.0002\n"
   ]
  },
  {
   "cell_type": "code",
   "execution_count": 239,
   "id": "4ea8f904",
   "metadata": {},
   "outputs": [],
   "source": [
    "class lin_model():\n",
    "    def __init__(self):\n",
    "        self.w = random.random()\n",
    "        self.b = random.random()\n",
    "        \n",
    "    def predict(self, x):\n",
    "        return self.w*x + self.b"
   ]
  },
  {
   "cell_type": "code",
   "execution_count": 240,
   "id": "66235d41",
   "metadata": {},
   "outputs": [],
   "source": [
    "def train(X, Y, model):\n",
    "    dw = 0.0\n",
    "    db = 0.0\n",
    "    cost = 0.0\n",
    "    m = len(X)\n",
    "    for x, y in zip(X, Y):\n",
    "        pred = model.predict(x)\n",
    "        cost += (pred-y)**2\n",
    "        dw += 2*(pred-y)*x\n",
    "        db += 2*(pred-y)\n",
    "    cost /= m\n",
    "    model.w -= lr*(dw/m)\n",
    "    model.b -= lr*(db/m)\n",
    "    return cost\n",
    "    "
   ]
  },
  {
   "cell_type": "code",
   "execution_count": 241,
   "id": "88e64de1",
   "metadata": {},
   "outputs": [],
   "source": [
    "model = lin_model()"
   ]
  },
  {
   "cell_type": "code",
   "execution_count": 242,
   "id": "0e543c3a",
   "metadata": {},
   "outputs": [
    {
     "name": "stdout",
     "output_type": "stream",
     "text": [
      "1102033.7380201211\n",
      "464795.68181873614\n",
      "210852.13501250022\n",
      "96643.2758692932\n",
      "45278.85385172723\n",
      "22178.160359198573\n",
      "11788.82823251261\n",
      "7116.318202738125\n",
      "5014.898235398067\n",
      "4069.803232713231\n",
      "5.1082141968943136 -994.4043355238938\n",
      "train_finished\n"
     ]
    }
   ],
   "source": [
    "for epoch in range(epochs):\n",
    "    cost = train(x, y, model)\n",
    "    if epoch%1000 == 0:\n",
    "        print(cost)\n",
    "print(str(model.w) + ' ' + str(model.b))\n",
    "print('train_finished')\n",
    "    "
   ]
  },
  {
   "cell_type": "code",
   "execution_count": 243,
   "id": "bd764d15",
   "metadata": {},
   "outputs": [
    {
     "data": {
      "image/png": "[encoded data removed]",
      "text/plain": [
       "<Figure size 432x288 with 1 Axes>"
      ]
     },
     "metadata": {
      "needs_background": "light"
     },
     "output_type": "display_data"
    }
   ],
   "source": [
    "pred1 = model.predict(-100)\n",
    "pred2 = model.predict(100)\n",
    "plt.scatter(x, y)\n",
    "plt.plot([-100,100], [pred1, pred2], color = \"blue\", linewidth = 3)\n",
    "plt.show()"
   ]
  },
  {
   "cell_type": "code",
   "execution_count": null,
   "id": "05ea371f",
   "metadata": {},
   "outputs": [],
   "source": []
  },
  {
   "cell_type": "code",
   "execution_count": null,
   "id": "9c4aa411",
   "metadata": {},
   "outputs": [],
   "source": []
  },
  {
   "cell_type": "code",
   "execution_count": null,
   "id": "97f61fa9",
   "metadata": {},
   "outputs": [],
   "source": []
  }
 ],
 "metadata": {
  "kernelspec": {
   "display_name": "Python 3 (ipykernel)",
   "language": "python",
   "name": "python3"
  },
  "language_info": {
   "codemirror_mode": {
    "name": "ipython",
    "version": 3
   },
   "file_extension": ".py",
   "mimetype": "text/x-python",
   "name": "python",
   "nbconvert_exporter": "python",
   "pygments_lexer": "ipython3",
   "version": "3.9.7"
  }
 },
 "nbformat": 4,
 "nbformat_minor": 5
}
